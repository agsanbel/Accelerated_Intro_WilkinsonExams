{
 "cells": [
  {
   "cell_type": "markdown",
   "metadata": {},
   "source": [
    "Problem 2"
   ]
  },
  {
   "cell_type": "code",
   "execution_count": null,
   "metadata": {},
   "outputs": [],
   "source": [
    "#Doing a list (ls) with its details (-l) (long listing format) and human readable size (-h)\n",
    "ls -lh"
   ]
  },
  {
   "cell_type": "markdown",
   "metadata": {},
   "source": [
    "All file have the same permissions. We can find 10 fields, the first field could be d or f if is a directory or a file. The field 2-3-4 are to users and these files has read and write permission, the field 5-6-7 are to groups and these files has read and write permissions and the field 8-9-10 are to all and these files has read permissions."
   ]
  },
  {
   "cell_type": "markdown",
   "metadata": {},
   "source": [
    "Problem 3"
   ]
  },
  {
   "cell_type": "code",
   "execution_count": null,
   "metadata": {},
   "outputs": [],
   "source": [
    "#Use head command to take the first lines and using -1 to take only the first one \n",
    "head -1 Locus_Germplasm_Phenotype_20130122.txt"
   ]
  },
  {
   "cell_type": "markdown",
   "metadata": {},
   "source": [
    "Problem 4"
   ]
  },
  {
   "cell_type": "code",
   "execution_count": null,
   "metadata": {},
   "outputs": [],
   "source": [
    "#Use wc in order to count and -l to count only lines in the file\n",
    "wc -l Locus_Germplasm_Phenotype_20130122.txt"
   ]
  },
  {
   "cell_type": "markdown",
   "metadata": {},
   "source": [
    "Problem 5"
   ]
  },
  {
   "cell_type": "code",
   "execution_count": null,
   "metadata": {},
   "outputs": [],
   "source": [
    "#create a file\n",
    "touch Data_only.csv\n",
    "#Take all lines unless the header line from Locus file and copy in the new file\n",
    "tail -7215 Locus_Germplasm_Phenotype_20130122.txt > Data_only.csv \n",
    "#Probe that the new file have all lines unless one\n",
    "wc -l Data_only.csv"
   ]
  },
  {
   "cell_type": "markdown",
   "metadata": {},
   "source": [
    "Problem 6"
   ]
  },
  {
   "cell_type": "code",
   "execution_count": null,
   "metadata": {},
   "outputs": [],
   "source": [
    "#Use the command grep to find the word root in the file and use -i to be insensitive to upper letter\n",
    "grep -i \"root\" Locus_Germplasm_Phenotype_20130122.txt"
   ]
  },
  {
   "cell_type": "markdown",
   "metadata": {},
   "source": [
    "Problem 7"
   ]
  },
  {
   "cell_type": "code",
   "execution_count": null,
   "metadata": {},
   "outputs": [],
   "source": [
    "#create the new file\n",
    "touch Root-associated-Loci.txt\n",
    "#First we search root in the file and then search the loci of each one and finally copy this information in the new file\n",
    "#Use -i to be insensitive and -o to show only the match\n",
    "grep -i \"root\" Locus_Germplasm_Phenotype_20130122.txt | grep -E -io \"AT[1-5]G[0-9]{5}\" > Root-associated-Loci.txt\n",
    "#Probe \n",
    "cat Root-associated-Loci.txt\n"
   ]
  },
  {
   "cell_type": "markdown",
   "metadata": {},
   "source": [
    "Problem 8"
   ]
  },
  {
   "cell_type": "code",
   "execution_count": null,
   "metadata": {},
   "outputs": [],
   "source": [
    "#create the new file\n",
    "touch Root-associated-Publications.txt\n",
    "#First we search root in the file and then search the id pubmed of each one and finally copy this information in the new file\n",
    "#Use -i to be insensitive, $ to be at the end of the line and -o to show only the match\n",
    "grep -i \"root\" Locus_Germplasm_Phenotype_20130122.txt | grep -E -io \"[0-9]+\\$\" > Root-associated-Publications.txt\n",
    "#Probe\n",
    "cat Root-associated-Publications.txt"
   ]
  },
  {
   "cell_type": "markdown",
   "metadata": {},
   "source": [
    "Problem 9"
   ]
  },
  {
   "cell_type": "code",
   "execution_count": null,
   "metadata": {
    "scrolled": false
   },
   "outputs": [],
   "source": [
    "#Searching root, then  searching AT1-5 and finally count the lines that contain it\n",
    "#Done with Paula\n",
    "grep -i \"root\" Locus_Germplasm_Phenotype_20130122.txt | grep -E -io \"^AT[1]\" | wc -l\n",
    "grep -i \"root\" Locus_Germplasm_Phenotype_20130122.txt | grep -E -io \"^AT[2]\" | wc -l \n",
    "grep -i \"root\" Locus_Germplasm_Phenotype_20130122.txt | grep -E -io \"^AT[3]\" | wc -l \n",
    "grep -i \"root\" Locus_Germplasm_Phenotype_20130122.txt | grep -E -io \"^AT[4]\" | wc -l \n",
    "grep -i \"root\" Locus_Germplasm_Phenotype_20130122.txt | grep -E -io \"^AT[5]\" | wc -l "
   ]
  },
  {
   "cell_type": "markdown",
   "metadata": {},
   "source": [
    "We can see how there are genes with \"root\" in all chromosomes. The hypothesis is correct."
   ]
  }
 ],
 "metadata": {
  "kernelspec": {
   "display_name": "Bash",
   "language": "bash",
   "name": "bash"
  },
  "language_info": {
   "codemirror_mode": "shell",
   "file_extension": ".sh",
   "mimetype": "text/x-sh",
   "name": "bash"
  }
 },
 "nbformat": 4,
 "nbformat_minor": 2
}
